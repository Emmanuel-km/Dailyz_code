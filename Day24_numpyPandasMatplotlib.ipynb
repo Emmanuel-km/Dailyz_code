{
 "cells": [
  {
   "cell_type": "code",
   "execution_count": 1,
   "id": "d713b80d",
   "metadata": {},
   "outputs": [
    {
     "data": {
      "image/png": "[encoded data removed]",
      "text/plain": [
       "<Figure size 640x480 with 1 Axes>"
      ]
     },
     "metadata": {},
     "output_type": "display_data"
    }
   ],
   "source": [
    "#importing stuffs\n",
    "import numpy as np\n",
    "import matplotlib.pyplot as plt\n",
    "\n",
    "#Declaring a list\n",
    "cvalues=[20.1,20.7,23.1,22.6,24.5,25.3,22.0,20.4,21.9]\n",
    "\n",
    "#making cvalues into a numpy array\n",
    "C=np.array(cvalues)\n",
    "\n",
    "#inline-making juypter not create a new window\n",
    "#%matplotlib \n",
    "\n",
    "\n",
    "plt.plot(C)\n",
    "plt.show()"
   ]
  },
  {
   "cell_type": "code",
   "execution_count": 2,
   "id": "43a78cd8",
   "metadata": {},
   "outputs": [
    {
     "name": "stdout",
     "output_type": "stream",
     "text": [
      "[ 1  5  9 13 17 21 25 29 33 37]\n",
      "[ 0.  1.  2.  3.  4.  5.  6.  7.  8.  9. 10.]\n",
      "(array([ 0.,  4.,  8., 12., 16., 20., 24., 28., 32., 36., 40.]), np.float64(4.0))\n"
     ]
    }
   ],
   "source": [
    "#numpy\n",
    "import numpy as np\n",
    "#arange and linespace in creation of a numpy array\n",
    "'''arange() uses a\n",
    "given distance and the linspace needs the number of\n",
    "elements and creates the distance automatically if not given.'''\n",
    "\n",
    "#the format layout of the arange is \n",
    "#arange([start,] stop[, step], [, dtype=None])\n",
    "\n",
    "#creating a numpy array with arange\n",
    "x=np.arange(1,40,4)\n",
    "print(x)\n",
    "\n",
    "#this will not consider the last value compared to linespace\n",
    "\n",
    "#this now will create float whole numbers values to \n",
    "# stop at 10. because the end is 10.4\n",
    "x = np.arange(10.4)\n",
    "print(x)\n",
    "\n",
    "#to solve the problems relating, linespace is here\n",
    "#1.solving considering the endpoint to be considered\n",
    "\n",
    "#the formart layout of the linespace is \n",
    "'''\n",
    "linspace(start, stop, num=50, endpoint=True, retstep=False)\n",
    "'''\n",
    "\n",
    "#solving 1\n",
    "x=np.linspace(0,40,num=11,endpoint=True,retstep=True)\n",
    "''' explanation\n",
    "this will produce 11 numbers from 0 to 40\n",
    "the end true will consider the final point\n",
    "the restep is for returning the intervals taken\n",
    "'''\n",
    "print(x)"
   ]
  },
  {
   "cell_type": "code",
   "execution_count": null,
   "id": "d27c64b9",
   "metadata": {},
   "outputs": [
    {
     "name": "stdout",
     "output_type": "stream",
     "text": [
      "The dimension of 78 is 0\n",
      "\n",
      "The dimension of [3 5 7 8 9 1 2] is 1\n",
      "\n",
      "The dimension of\n",
      "[[ 3  6  9 12 15 18 21 24 27 30]\n",
      " [ 9 18 27 36 45 54 63 72 81 90]]\n",
      "is 2\n",
      "\n",
      "The dimension of\n",
      "[[[ 2  4  6]\n",
      "  [ 1  2  3]]\n",
      "\n",
      " [[ 3  6  9]\n",
      "  [ 6 12 18]]\n",
      "\n",
      " [[ 4  8 12]\n",
      "  [ 8 16 24]]]\n",
      "is 3\n",
      "\n"
     ]
    }
   ],
   "source": [
    "import numpy as np\n",
    "\n",
    "#arrays dimensions\n",
    "# zero dimension\n",
    "x=np.array(78)\n",
    "print(f\"The dimension of {x} is {np.ndim(x)}\\n\") \n",
    "\n",
    "#one dimension\n",
    "x=np.array([3,5,7,8,9,1,2])\n",
    "print(f\"The dimension of {x} is {np.ndim(x)}\\n\") \n",
    "\n",
    "#two dimension\n",
    "x=np.array([[3,6,9,12,15,18,21,24,27,30],[9,18,27,36,45,54,63,72,81,90]])\n",
    "print(f\"The dimension of\\n{x}\\nis {np.ndim(x)}\\n\")\n",
    "\n",
    "#multi- dimension array 3-d array\n",
    "#this is generally 2d interlocked intertained united with each other\n",
    "x=np.array([[[2,4,6],[1,2,3]],[[3,6,9],[6,12,18]],[[4,8,12],[8,16,24]]])\n",
    "print(f\"The dimension of\\n{x}\\nis {np.ndim(x)}\\n\")"
   ]
  }
 ],
 "metadata": {
  "kernelspec": {
   "display_name": "Python 3",
   "language": "python",
   "name": "python3"
  },
  "language_info": {
   "codemirror_mode": {
    "name": "ipython",
    "version": 3
   },
   "file_extension": ".py",
   "mimetype": "text/x-python",
   "name": "python",
   "nbconvert_exporter": "python",
   "pygments_lexer": "ipython3",
   "version": "3.13.7"
  }
 },
 "nbformat": 4,
 "nbformat_minor": 5
}
