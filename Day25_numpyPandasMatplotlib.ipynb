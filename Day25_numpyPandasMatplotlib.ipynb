{
 "cells": [
  {
   "cell_type": "code",
   "execution_count": 6,
   "id": "35505875",
   "metadata": {},
   "outputs": [
    {
     "name": "stdout",
     "output_type": "stream",
     "text": [
      "(6, 3)\n",
      "[[67 63]\n",
      " [87 77]\n",
      " [69 59]\n",
      " [85 87]\n",
      " [99 79]\n",
      " [72 71]\n",
      " [63 89]\n",
      " [93 68]\n",
      " [92 78]]\n",
      "(3, 2, 3)\n",
      "[[[ 2  4]\n",
      "  [ 6  1]\n",
      "  [ 2  3]]\n",
      "\n",
      " [[ 3  6]\n",
      "  [ 9  6]\n",
      "  [12 18]]\n",
      "\n",
      " [[ 4  8]\n",
      "  [12  8]\n",
      "  [16 24]]]\n"
     ]
    }
   ],
   "source": [
    "import numpy as np\n",
    "\n",
    "#shape of array\n",
    "#axis 0 is the rows\n",
    "#axis 1 is the columns\n",
    "#axis 2 is the width\n",
    "\n",
    "#checking the shape of an array\n",
    "x = np.array([ [67, 63, 87],\n",
    "[77, 69, 59],\n",
    "[85, 87, 99],\n",
    "[79, 72, 71],\n",
    "[63, 89, 93],\n",
    "[68, 92, 78]])\n",
    "\n",
    "print(np.shape(x))\n",
    "\n",
    "#changing the shape\n",
    "x.shape=(9,2)\n",
    "print(x)\n",
    "\n",
    "\n",
    "#representing a multidimension array\n",
    "x=np.array([[[2,4,6],[1,2,3]],[[3,6,9],[6,12,18]],[[4,8,12],[8,16,24]]])\n",
    "\n",
    "print(np.shape(x))\n",
    "\n",
    "#changing the shape\n",
    "x.shape=(3,3,2)\n",
    "print(x)"
   ]
  },
  {
   "cell_type": "code",
   "execution_count": null,
   "id": "bb476ebb",
   "metadata": {},
   "outputs": [],
   "source": [
    "import numpy as np\n",
    "\n",
    "#indexing and slicing\n",
    "\n",
    "#the syntax for one dimension is \n",
    "'''  A[start:stop:step]  '''\n",
    "\n"
   ]
  }
 ],
 "metadata": {
  "kernelspec": {
   "display_name": "Python 3",
   "language": "python",
   "name": "python3"
  },
  "language_info": {
   "codemirror_mode": {
    "name": "ipython",
    "version": 3
   },
   "file_extension": ".py",
   "mimetype": "text/x-python",
   "name": "python",
   "nbconvert_exporter": "python",
   "pygments_lexer": "ipython3",
   "version": "3.13.7"
  }
 },
 "nbformat": 4,
 "nbformat_minor": 5
}
