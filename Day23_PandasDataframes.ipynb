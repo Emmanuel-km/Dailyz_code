{
 "cells": [
  {
   "cell_type": "code",
   "execution_count": 12,
   "id": "07baa093-03a6-4f47-9c02-43e15cf805a7",
   "metadata": {},
   "outputs": [
    {
     "data": {
      "text/html": [
       "<div>\n",
       "<style scoped>\n",
       "    .dataframe tbody tr th:only-of-type {\n",
       "        vertical-align: middle;\n",
       "    }\n",
       "\n",
       "    .dataframe tbody tr th {\n",
       "        vertical-align: top;\n",
       "    }\n",
       "\n",
       "    .dataframe thead th {\n",
       "        text-align: right;\n",
       "    }\n",
       "</style>\n",
       "<table border=\"1\" class=\"dataframe\">\n",
       "  <thead>\n",
       "    <tr style=\"text-align: right;\">\n",
       "      <th></th>\n",
       "      <th>names</th>\n",
       "      <th>gpa_scores</th>\n",
       "      <th>rank</th>\n",
       "    </tr>\n",
       "  </thead>\n",
       "  <tbody>\n",
       "    <tr>\n",
       "      <th>0</th>\n",
       "      <td>john</td>\n",
       "      <td>3.84</td>\n",
       "      <td>1</td>\n",
       "    </tr>\n",
       "    <tr>\n",
       "      <th>1</th>\n",
       "      <td>mark</td>\n",
       "      <td>3.12</td>\n",
       "      <td>3</td>\n",
       "    </tr>\n",
       "    <tr>\n",
       "      <th>2</th>\n",
       "      <td>leonard</td>\n",
       "      <td>3.99</td>\n",
       "      <td>2</td>\n",
       "    </tr>\n",
       "  </tbody>\n",
       "</table>\n",
       "</div>"
      ],
      "text/plain": [
       "     names  gpa_scores  rank\n",
       "0     john        3.84     1\n",
       "1     mark        3.12     3\n",
       "2  leonard        3.99     2"
      ]
     },
     "execution_count": 12,
     "metadata": {},
     "output_type": "execute_result"
    }
   ],
   "source": [
    "#importing pandas\n",
    "import pandas as pd\n",
    "data={\n",
    "    \"names\":[\"john\",\"mark\",\"leonard\"],\n",
    "    \"gpa_scores\":[3.84,3.12,3.99],\n",
    "    \"rank\":[1,3,2]\n",
    "}\n",
    "data\n",
    "data_series=pd.Series(data)\n",
    "data_dataFrame=pd.DataFrame(data)\n",
    "data_dataFrame"
   ]
  },
  {
   "cell_type": "code",
   "execution_count": 13,
   "id": "4ce581ff-77fe-4cb5-8016-55c8cf7f3bca",
   "metadata": {},
   "outputs": [
    {
     "name": "stdout",
     "output_type": "stream",
     "text": [
      "Multi-index DataFrame:\n",
      "                          Name  Salary\n",
      "Department EmployeeID                 \n",
      "HR         101           Alice   50000\n",
      "IT         102             Bob   60000\n",
      "           103         Charlie   70000\n",
      "Finance    104           Diana   55000\n"
     ]
    }
   ],
   "source": [
    "import pandas as pd\n",
    "df_multi = pd.DataFrame({\n",
    "    'Department': ['HR', 'IT', 'IT', 'Finance'],\n",
    "    'EmployeeID': [101, 102, 103, 104],\n",
    "    'Name': ['Alice', 'Bob', 'Charlie', 'Diana'],\n",
    "    'Salary': [50000, 60000, 70000, 55000]\n",
    "})\n",
    "\n",
    "# Set multiple columns as index\n",
    "df_multi_index = df_multi.set_index(['Department', 'EmployeeID'])\n",
    "print(\"Multi-index DataFrame:\")\n",
    "print(df_multi_index)"
   ]
  },
  {
   "cell_type": "code",
   "execution_count": null,
   "id": "5a5c8d23-ed2e-4264-a3b9-6fd6969ebad6",
   "metadata": {},
   "outputs": [],
   "source": []
  }
 ],
 "metadata": {
  "kernelspec": {
   "display_name": "Python 3 (ipykernel)",
   "language": "python",
   "name": "python3"
  },
  "language_info": {
   "codemirror_mode": {
    "name": "ipython",
    "version": 3
   },
   "file_extension": ".py",
   "mimetype": "text/x-python",
   "name": "python",
   "nbconvert_exporter": "python",
   "pygments_lexer": "ipython3",
   "version": "3.13.7"
  }
 },
 "nbformat": 4,
 "nbformat_minor": 5
}
