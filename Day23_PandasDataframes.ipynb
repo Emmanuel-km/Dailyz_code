{
 "cells": [
  {
   "cell_type": "code",
   "execution_count": 12,
   "id": "07baa093-03a6-4f47-9c02-43e15cf805a7",
   "metadata": {},
   "outputs": [
    {
     "data": {
      "text/html": [
       "<div>\n",
       "<style scoped>\n",
       "    .dataframe tbody tr th:only-of-type {\n",
       "        vertical-align: middle;\n",
       "    }\n",
       "\n",
       "    .dataframe tbody tr th {\n",
       "        vertical-align: top;\n",
       "    }\n",
       "\n",
       "    .dataframe thead th {\n",
       "        text-align: right;\n",
       "    }\n",
       "</style>\n",
       "<table border=\"1\" class=\"dataframe\">\n",
       "  <thead>\n",
       "    <tr style=\"text-align: right;\">\n",
       "      <th></th>\n",
       "      <th>0</th>\n",
       "    </tr>\n",
       "  </thead>\n",
       "  <tbody>\n",
       "    <tr>\n",
       "      <th>US</th>\n",
       "      <td>dolla</td>\n",
       "    </tr>\n",
       "    <tr>\n",
       "      <th>UK</th>\n",
       "      <td>pound</td>\n",
       "    </tr>\n",
       "    <tr>\n",
       "      <th>GERMANY</th>\n",
       "      <td>euro</td>\n",
       "    </tr>\n",
       "    <tr>\n",
       "      <th>MEXICO</th>\n",
       "      <td>peso</td>\n",
       "    </tr>\n",
       "    <tr>\n",
       "      <th>NIGERIA</th>\n",
       "      <td>naira</td>\n",
       "    </tr>\n",
       "    <tr>\n",
       "      <th>CHINA</th>\n",
       "      <td>yuan</td>\n",
       "    </tr>\n",
       "    <tr>\n",
       "      <th>JAPAN</th>\n",
       "      <td>yen</td>\n",
       "    </tr>\n",
       "  </tbody>\n",
       "</table>\n",
       "</div>"
      ],
      "text/plain": [
       "             0\n",
       "US       dolla\n",
       "UK       pound\n",
       "GERMANY   euro\n",
       "MEXICO    peso\n",
       "NIGERIA  naira\n",
       "CHINA     yuan\n",
       "JAPAN      yen"
      ]
     },
     "execution_count": 12,
     "metadata": {},
     "output_type": "execute_result"
    }
   ],
   "source": [
    "#importing pandas\n",
    "import pandas as pd\n",
    "curr_dict={\"US\":\"dolla\",\"UK\":\"pound\",\"GERMANY\":\"euro\",\"MEXICO\":\"peso\",\"NIGERIA\":\"naira\",\"CHINA\":\"yuan\",\"JAPAN\":\"yen\"}\n",
    "curr_dict={\"countries\":['us','uk\"],currency:[\"dolla\n",
    "curr_series=pd.Series(curr_dict)\n",
    "curr_dataframe=pd.DataFrame(curr_series,index=[1,2,3,4,5,6,7])\n",
    "#curr_Dataframe=pd.DataFrame(['country','currency'],index=curr_series)\n",
    "curr_Dataframe"
   ]
  },
  {
   "cell_type": "code",
   "execution_count": null,
   "id": "feafde36-770e-4d57-8a7c-a447ffd27795",
   "metadata": {},
   "outputs": [],
   "source": []
  }
 ],
 "metadata": {
  "kernelspec": {
   "display_name": "Python 3 (ipykernel)",
   "language": "python",
   "name": "python3"
  },
  "language_info": {
   "codemirror_mode": {
    "name": "ipython",
    "version": 3
   },
   "file_extension": ".py",
   "mimetype": "text/x-python",
   "name": "python",
   "nbconvert_exporter": "python",
   "pygments_lexer": "ipython3",
   "version": "3.13.7"
  }
 },
 "nbformat": 4,
 "nbformat_minor": 5
}
